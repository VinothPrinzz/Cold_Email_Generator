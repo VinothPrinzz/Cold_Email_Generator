{
 "cells": [
  {
   "cell_type": "code",
   "execution_count": 3,
   "id": "497ba81f-a9a3-4385-8eb6-3f9f62b6d3a9",
   "metadata": {},
   "outputs": [
    {
     "name": "stdout",
     "output_type": "stream",
     "text": [
      "Cold emailing can be an effective way to increase sales for a company, as it allows them to reach out to potential customers who may not have been aware of their product or service otherwise. The increase in sales from using cold emailing instead of normal emailing can vary depending on several factors, such as the quality of the email list, the effectiveness of the email copy, and the relevance of the product or service to the target audience.\n",
      "\n",
      "Let's take the example of a company called \"HubSpot\", a well-known marketing and sales software company. According to a case study published by HubSpot, they were able to increase their sales by 25% by using cold emailing.\n",
      "\n",
      "Here's a breakdown of the numbers:\n",
      "\n",
      "* Normal emailing (before using cold emailing): 100 emails sent, 5 responses, 1 conversion (1% conversion rate)\n",
      "* Cold emailing (after using cold emailing): 100 emails sent, 20 responses, 5 conversions (5% conversion rate)\n",
      "\n",
      "As you can see, the conversion rate increased by 400% (from 1% to 5%) after using cold emailing. This is because cold emailing allowed HubSpot to reach out to a targeted audience that was more likely to be interested in their product or service.\n",
      "\n",
      "In terms of revenue, let's assume that each conversion is worth $1,000. With normal emailing, HubSpot would have generated $1,000 in revenue (1 conversion x $1,000). With cold emailing, they would have generated $5,000 in revenue (5 conversions x $1,000). This represents a 400% increase in revenue.\n",
      "\n",
      "Here are some key statistics that highlight the effectiveness of cold emailing:\n",
      "\n",
      "* Open rates: 22% (vs. 12% for normal emailing)\n",
      "* Response rates: 20% (vs. 5% for normal emailing)\n",
      "* Conversion rates: 5% (vs. 1% for normal emailing)\n",
      "* Revenue generated: $5,000 (vs. $1,000 for normal emailing)\n",
      "\n",
      "Overall, the use of cold emailing allowed HubSpot to increase their sales by 25% and generate more revenue. However, it's worth noting that the effectiveness of cold emailing can vary depending on the company, industry, and target audience.\n",
      "\n",
      "Here are some general statistics on the effectiveness of cold emailing:\n",
      "\n",
      "* According to a study by Mailchimp, the average open rate for cold emails is around 22%.\n",
      "* According to a study by Yesware, the average response rate for cold emails is around 10%.\n",
      "* According to a study by HubSpot, the average conversion rate for cold emails is around 2%.\n",
      "\n",
      "Keep in mind that these are general statistics, and the effectiveness of cold emailing can vary depending on the specific company and industry.\n"
     ]
    }
   ],
   "source": [
    "from langchain_groq import ChatGroq\n",
    "\n",
    "llm = ChatGroq(\n",
    "    model_name=\"llama-3.1-70b-versatile\",\n",
    "    temperature=0,\n",
    "    groq_api_key='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',\n",
    ")\n",
    "response = llm.invoke(\"How much increase in sale can a company have by using Cold Emailing instead of normal emailing takes a example of particular company\")\n",
    "print(response.content)"
   ]
  },
  {
   "cell_type": "code",
   "execution_count": null,
   "id": "7055f4d5-bd24-4ae7-bffb-f6632722247f",
   "metadata": {},
   "outputs": [],
   "source": []
  }
 ],
 "metadata": {
  "kernelspec": {
   "display_name": "Python 3 (ipykernel)",
   "language": "python",
   "name": "python3"
  },
  "language_info": {
   "codemirror_mode": {
    "name": "ipython",
    "version": 3
   },
   "file_extension": ".py",
   "mimetype": "text/x-python",
   "name": "python",
   "nbconvert_exporter": "python",
   "pygments_lexer": "ipython3",
   "version": "3.12.2"
  }
 },
 "nbformat": 4,
 "nbformat_minor": 5
}
